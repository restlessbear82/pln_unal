{
  "nbformat": 4,
  "nbformat_minor": 0,
  "metadata": {
    "colab": {
      "name": "Cuaderno_Numpy.ipynb",
      "provenance": [],
      "authorship_tag": "ABX9TyOup2YnLf2YvGB4vNT2PlxT",
      "include_colab_link": true
    },
    "kernelspec": {
      "name": "python3",
      "display_name": "Python 3"
    },
    "language_info": {
      "name": "python"
    }
  },
  "cells": [
    {
      "cell_type": "markdown",
      "metadata": {
        "id": "view-in-github",
        "colab_type": "text"
      },
      "source": [
        "<a href=\"https://colab.research.google.com/github/restlessbear82/pln_unal/blob/main/Cuaderno_Numpy.ipynb\" target=\"_parent\"><img src=\"https://colab.research.google.com/assets/colab-badge.svg\" alt=\"Open In Colab\"/></a>"
      ]
    },
    {
      "cell_type": "markdown",
      "source": [
        "**Procesamiento de Lenguaje Natural**\n",
        "\n",
        "**Cuaderno de implementación de la librería Numpy de Python**\n",
        "\n",
        "Gustavo Adolfo García Vélez - 80115870"
      ],
      "metadata": {
        "id": "7FJBPzUUTxj5"
      }
    },
    {
      "cell_type": "code",
      "execution_count": 27,
      "metadata": {
        "id": "sPP_7jA7TsZ_"
      },
      "outputs": [],
      "source": [
        "#Importación de la librería\n",
        "import numpy as np"
      ]
    },
    {
      "cell_type": "code",
      "source": [
        "#Creación básica de arrays\n",
        "#El número de dimensiones viene dado por el número de paréntesis cuadrados\n",
        "a = np.array(6) #array de dimensión 0\n",
        "b = np.array([1,2,3,4]) #array de dimensión 1\n",
        "c = np.array([[1,2,3,4],[5,6,7,8]]) #array de dimensión 2\n",
        "d = np.array([[[1,2,3,4],[5,6,7,8]],[[9,10,11,12],[13,14,15,16]]]) #array de dimensión 3\n",
        "e = np.array([[[1,2],[3,4],[5,6]]]) #array de dimensión 3\n",
        "f = np.array([[[[1,2,3,4],[4,3,2,1]]]]) #array de dimensión 4\n",
        "\n",
        "print(\"a =\",a,\"\\n\")\n",
        "print(\"b =\",b,\"\\n\")\n",
        "print(\"c =\",c,\"\\n\")\n",
        "print(\"d =\",d,\"\\n\")\n",
        "print(\"e =\",e,\"\\n\")\n",
        "print(\"f =\",f,\"\\n\")"
      ],
      "metadata": {
        "colab": {
          "base_uri": "https://localhost:8080/"
        },
        "id": "s0VkN6b6WKLt",
        "outputId": "263c552d-22a7-47c8-bf7d-85543fb8b4e4"
      },
      "execution_count": 28,
      "outputs": [
        {
          "output_type": "stream",
          "name": "stdout",
          "text": [
            "a = 6 \n",
            "\n",
            "b = [1 2 3 4] \n",
            "\n",
            "c = [[1 2 3 4]\n",
            " [5 6 7 8]] \n",
            "\n",
            "d = [[[ 1  2  3  4]\n",
            "  [ 5  6  7  8]]\n",
            "\n",
            " [[ 9 10 11 12]\n",
            "  [13 14 15 16]]] \n",
            "\n",
            "e = [[[1 2]\n",
            "  [3 4]\n",
            "  [5 6]]] \n",
            "\n",
            "f = [[[[1 2 3 4]\n",
            "   [4 3 2 1]]]] \n",
            "\n"
          ]
        }
      ]
    },
    {
      "cell_type": "code",
      "source": [
        "#verificación de la dimensionalidad de los arrays con la instrucción ndim\n",
        "\n",
        "print(a.ndim)\n",
        "print(b.ndim)\n",
        "print(c.ndim)\n",
        "print(d.ndim)\n",
        "print(e.ndim)\n",
        "print(f.ndim)"
      ],
      "metadata": {
        "colab": {
          "base_uri": "https://localhost:8080/"
        },
        "id": "dGxXNZVMXLPR",
        "outputId": "70b12c12-01aa-4540-e62b-e1a59d1b98c8"
      },
      "execution_count": 29,
      "outputs": [
        {
          "output_type": "stream",
          "name": "stdout",
          "text": [
            "0\n",
            "1\n",
            "2\n",
            "3\n",
            "3\n",
            "4\n"
          ]
        }
      ]
    },
    {
      "cell_type": "code",
      "source": [
        "#Indexación básica en el array. \n",
        "#La indexación busca el elemento de la dimensión correspondiente. \n",
        "\n",
        "#Búsqueda en la  primera dimensión\n",
        "\n",
        "print(\"a =\", a)\n",
        "print(\"b[1] =\", b[1])\n",
        "print(\"c[2] =\", c[1])\n",
        "print(\"f[1] =\", f[0])"
      ],
      "metadata": {
        "colab": {
          "base_uri": "https://localhost:8080/"
        },
        "id": "D4mprMo3Y58L",
        "outputId": "94a65e78-66aa-4b3e-9cee-0c0eedd4b113"
      },
      "execution_count": 30,
      "outputs": [
        {
          "output_type": "stream",
          "name": "stdout",
          "text": [
            "a = 6\n",
            "b[1] = 2\n",
            "c[2] = [5 6 7 8]\n",
            "f[1] = [[[1 2 3 4]\n",
            "  [4 3 2 1]]]\n"
          ]
        }
      ]
    },
    {
      "cell_type": "code",
      "source": [
        "#Búsqueda en la segunda dimensión\n",
        "\n",
        "print(\"a =\",a)\n",
        "print(\"b[2] =\",b[2])\n",
        "print(\"c[1,2] =\",c[1,2])\n",
        "print(\"f[0,1,2] =\",f[0,0,1])"
      ],
      "metadata": {
        "colab": {
          "base_uri": "https://localhost:8080/"
        },
        "id": "Y6u-RCc4Y8LL",
        "outputId": "54fb418a-24eb-4c67-933d-f13a803459bb"
      },
      "execution_count": 31,
      "outputs": [
        {
          "output_type": "stream",
          "name": "stdout",
          "text": [
            "a = 6\n",
            "b[2] = 3\n",
            "c[1,2] = 7\n",
            "f[0,1,2] = [4 3 2 1]\n"
          ]
        }
      ]
    },
    {
      "cell_type": "code",
      "source": [
        "#Segmentación de arrays\n",
        "print(b[1:4]) #b = [1 2 3 4] \n",
        "print(c[1,1:3]) #c = [[1 2 3 4][5 6 7 8]] "
      ],
      "metadata": {
        "colab": {
          "base_uri": "https://localhost:8080/"
        },
        "id": "H4F-1trXJJiu",
        "outputId": "18a2dd4d-742f-4188-ee2e-c9098b681e21"
      },
      "execution_count": 32,
      "outputs": [
        {
          "output_type": "stream",
          "name": "stdout",
          "text": [
            "[2 3 4]\n",
            "[6 7]\n"
          ]
        }
      ]
    },
    {
      "cell_type": "code",
      "source": [
        "#Otros tipos de datos en los arrays\n",
        "\n",
        "#Array de tipo cadena de dimensión cero\n",
        "verduras = np.array(['Espinaca','Apio','Lechuga','Auyama'])\n",
        "\n",
        "#Array de tipo booleano de dimensión 2\n",
        "verdad = np.array([[True,False],[False,True]])\n",
        "\n",
        "#Array de punto flotante\n",
        "trascendentes = np.array([3.1416,2.7129])\n",
        "\n",
        "print(verduras.dtype)\n",
        "print(verdad.dtype)\n",
        "print(trascendentes.dtype)"
      ],
      "metadata": {
        "colab": {
          "base_uri": "https://localhost:8080/"
        },
        "id": "w4LVYPDvJbas",
        "outputId": "541a3627-ad38-43bd-89b8-597d0788b381"
      },
      "execution_count": 33,
      "outputs": [
        {
          "output_type": "stream",
          "name": "stdout",
          "text": [
            "<U8\n",
            "bool\n",
            "float64\n"
          ]
        }
      ]
    },
    {
      "cell_type": "code",
      "source": [
        "#Conversión de tipos de datos\n",
        "#tipo integer a string\n",
        "\n",
        "number_to_string=np.array(b, dtype='S') \n",
        "print(number_to_string.dtype)\n",
        "print(number_to_string)\n",
        "\n",
        "#tipo punto flotante a string\n",
        "\n",
        "float_to_string=np.array(trascendentes, dtype='S') \n",
        "print(float_to_string.dtype)\n",
        "print(float_to_string)"
      ],
      "metadata": {
        "colab": {
          "base_uri": "https://localhost:8080/"
        },
        "id": "JMedujcYLUWP",
        "outputId": "2764d9aa-802b-4e6e-de84-c1f4f72be156"
      },
      "execution_count": 34,
      "outputs": [
        {
          "output_type": "stream",
          "name": "stdout",
          "text": [
            "|S21\n",
            "[b'1' b'2' b'3' b'4']\n",
            "|S32\n",
            "[b'3.1416' b'2.7129']\n"
          ]
        }
      ]
    },
    {
      "cell_type": "code",
      "source": [
        "#Excepción que muestra un error de creación de un array. \n",
        "\n",
        "try:\n",
        "    error_array = np.array([False, '2', '3'], dtype='i')\n",
        "except:\n",
        "    print(\"hay un error en su lógica. El array contiene diferentes tipos de datos\")"
      ],
      "metadata": {
        "id": "vg2UPVYpLcNz"
      },
      "execution_count": 35,
      "outputs": []
    },
    {
      "cell_type": "code",
      "source": [
        "#Cambio de tipo en arrays ya existentes, siempre y cuando el cambio sea posible\n",
        "\n",
        "float_array = np.array([1.0, 2.1, 3.2])\n",
        "int_array = float_array.astype('b')\n",
        "print(int_array)"
      ],
      "metadata": {
        "colab": {
          "base_uri": "https://localhost:8080/"
        },
        "id": "uqBtda9UMQoh",
        "outputId": "50c24800-93b6-4892-ea15-27a8942f871e"
      },
      "execution_count": 36,
      "outputs": [
        {
          "output_type": "stream",
          "name": "stdout",
          "text": [
            "[1 2 3]\n"
          ]
        }
      ]
    },
    {
      "cell_type": "code",
      "source": [
        "#Forma de los arrays. Se define como el número de elementos de cada dimensión.\n",
        "\n",
        "print(a.shape)\n",
        "print(b.shape)\n",
        "print(c.shape)\n",
        "print(d.shape)\n",
        "print(e.shape)\n",
        "print(f.shape)"
      ],
      "metadata": {
        "colab": {
          "base_uri": "https://localhost:8080/"
        },
        "id": "_C5A-_9GNPCs",
        "outputId": "28b286cc-7f49-434f-98ed-6b145ad287c0"
      },
      "execution_count": 37,
      "outputs": [
        {
          "output_type": "stream",
          "name": "stdout",
          "text": [
            "()\n",
            "(4,)\n",
            "(2, 4)\n",
            "(2, 2, 4)\n",
            "(1, 3, 2)\n",
            "(1, 1, 2, 4)\n"
          ]
        }
      ]
    },
    {
      "cell_type": "code",
      "source": [
        "#Cambio de forma de los arrays, aumentando el número de dimensiones o cambiando el número de elementos por dimensión.  \n",
        "#Es posible realizar cualquier cambio en la forma, siempre y cuando el número final de elementos sea el mismo.\n",
        "\n",
        "print(\"f =\",f,\"\\n\")\n",
        "f_1D=f.reshape(1,8)\n",
        "print(\"c_1D =\",f_1D,\"\\n\")\n",
        "f_4D=f.reshape(4,2)\n",
        "print(\"c_4D =\",f_4D,\"\\n\")"
      ],
      "metadata": {
        "colab": {
          "base_uri": "https://localhost:8080/"
        },
        "id": "IMXh7ihJObRC",
        "outputId": "50619330-3144-4162-a304-affc54957e0e"
      },
      "execution_count": 38,
      "outputs": [
        {
          "output_type": "stream",
          "name": "stdout",
          "text": [
            "f = [[[[1 2 3 4]\n",
            "   [4 3 2 1]]]] \n",
            "\n",
            "c_1D = [[1 2 3 4 4 3 2 1]] \n",
            "\n",
            "c_4D = [[1 2]\n",
            " [3 4]\n",
            " [4 3]\n",
            " [2 1]] \n",
            "\n"
          ]
        }
      ]
    },
    {
      "cell_type": "code",
      "source": [
        "#Cambios de forma que no son posibles\n",
        "print(d)\n",
        "print(d.shape)\n",
        "try:\n",
        "    d.reshape(3,5)\n",
        "except:\n",
        "    print('Hay un error en sus operaciones')\n",
        "\n",
        "d.reshape(2,4,2)"
      ],
      "metadata": {
        "colab": {
          "base_uri": "https://localhost:8080/"
        },
        "id": "yeelXOFZQxys",
        "outputId": "dc216465-b019-4ff3-8fb3-0c3b1834af66"
      },
      "execution_count": 39,
      "outputs": [
        {
          "output_type": "stream",
          "name": "stdout",
          "text": [
            "[[[ 1  2  3  4]\n",
            "  [ 5  6  7  8]]\n",
            "\n",
            " [[ 9 10 11 12]\n",
            "  [13 14 15 16]]]\n",
            "(2, 2, 4)\n",
            "Hay un error en sus operaciones\n"
          ]
        },
        {
          "output_type": "execute_result",
          "data": {
            "text/plain": [
              "array([[[ 1,  2],\n",
              "        [ 3,  4],\n",
              "        [ 5,  6],\n",
              "        [ 7,  8]],\n",
              "\n",
              "       [[ 9, 10],\n",
              "        [11, 12],\n",
              "        [13, 14],\n",
              "        [15, 16]]])"
            ]
          },
          "metadata": {},
          "execution_count": 39
        }
      ]
    },
    {
      "cell_type": "code",
      "source": [
        "#Ajuste automático de dimensiones (\"Dimensión desconocida\")\n",
        "#El ajuste automático funciona, siempre y cuando el número de dimensiones sea divisor del número de elementos\n",
        "\n",
        "arr = np.array([1, 2, 3, 4, 5, 6, 7, 8, 9, 10])\n",
        "arr.reshape(5,-1)"
      ],
      "metadata": {
        "colab": {
          "base_uri": "https://localhost:8080/"
        },
        "id": "QHmi273rR5rW",
        "outputId": "be625cbc-926b-412a-b1fa-f518ddfcc2cc"
      },
      "execution_count": 40,
      "outputs": [
        {
          "output_type": "execute_result",
          "data": {
            "text/plain": [
              "array([[ 1,  2],\n",
              "       [ 3,  4],\n",
              "       [ 5,  6],\n",
              "       [ 7,  8],\n",
              "       [ 9, 10]])"
            ]
          },
          "metadata": {},
          "execution_count": 40
        }
      ]
    },
    {
      "cell_type": "code",
      "source": [
        "#Aplanamiento de dimensiones. \n",
        "f.reshape(-1)"
      ],
      "metadata": {
        "colab": {
          "base_uri": "https://localhost:8080/"
        },
        "id": "7oYzvdgxSe95",
        "outputId": "b4a28248-0e4b-4c9a-9c87-092ed1aba872"
      },
      "execution_count": 41,
      "outputs": [
        {
          "output_type": "execute_result",
          "data": {
            "text/plain": [
              "array([1, 2, 3, 4, 4, 3, 2, 1])"
            ]
          },
          "metadata": {},
          "execution_count": 41
        }
      ]
    },
    {
      "cell_type": "code",
      "source": [
        "#Transpuesta de un array\n",
        "print(\"c =\",c)\n",
        "print(c.shape,\"\\n\")\n",
        "print(\"c.T =\",c.T)\n",
        "print(c.T.shape)"
      ],
      "metadata": {
        "colab": {
          "base_uri": "https://localhost:8080/"
        },
        "id": "1sD-AKowSuAg",
        "outputId": "179dd072-a743-465e-8420-d29c8641d072"
      },
      "execution_count": 42,
      "outputs": [
        {
          "output_type": "stream",
          "name": "stdout",
          "text": [
            "c = [[1 2 3 4]\n",
            " [5 6 7 8]]\n",
            "(2, 4) \n",
            "\n",
            "c.T = [[1 5]\n",
            " [2 6]\n",
            " [3 7]\n",
            " [4 8]]\n",
            "(4, 2)\n"
          ]
        }
      ]
    },
    {
      "cell_type": "code",
      "source": [
        "#Iteración de arrays. Con un bucle 'for' se muestra cada dimensión del array con sus elementos respectivos\n",
        "for x in f:\n",
        "    print(x)"
      ],
      "metadata": {
        "colab": {
          "base_uri": "https://localhost:8080/"
        },
        "id": "HUqWEMGjTkW3",
        "outputId": "d8491c91-e0f7-46d0-8b6d-6cae15d52bb3"
      },
      "execution_count": 43,
      "outputs": [
        {
          "output_type": "stream",
          "name": "stdout",
          "text": [
            "[[[1 2 3 4]\n",
            "  [4 3 2 1]]]\n"
          ]
        }
      ]
    },
    {
      "cell_type": "code",
      "source": [
        "#Recorrido del array con bucles for, en cada dimensión (se hace para un array de 4 dimensiones)\n",
        "for x in f:\n",
        "    for y in x:\n",
        "        for z in y:\n",
        "          for w in z:\n",
        "            print(w)"
      ],
      "metadata": {
        "colab": {
          "base_uri": "https://localhost:8080/"
        },
        "id": "aGRCRS9kUFyd",
        "outputId": "f7dab388-6fd7-4c6c-8b6f-a0ccc5c0ef00"
      },
      "execution_count": 44,
      "outputs": [
        {
          "output_type": "stream",
          "name": "stdout",
          "text": [
            "1\n",
            "2\n",
            "3\n",
            "4\n",
            "4\n",
            "3\n",
            "2\n",
            "1\n"
          ]
        }
      ]
    },
    {
      "cell_type": "code",
      "source": [
        "#El mismo resultado anterior se consigue con la función nditer\n",
        "\n",
        "for x in np.nditer(f):\n",
        "    print(x)"
      ],
      "metadata": {
        "colab": {
          "base_uri": "https://localhost:8080/"
        },
        "id": "U7y1R3GnUgDM",
        "outputId": "ddaadc53-510d-4d1f-c649-4f029c7e79f5"
      },
      "execution_count": 45,
      "outputs": [
        {
          "output_type": "stream",
          "name": "stdout",
          "text": [
            "1\n",
            "2\n",
            "3\n",
            "4\n",
            "4\n",
            "3\n",
            "2\n",
            "1\n"
          ]
        }
      ]
    },
    {
      "cell_type": "code",
      "source": [
        "#Operaciones entre arrays\n",
        "\n",
        "#Suma con np.add (aplica entre argumentos, dando como resultado un array de la misma forma):\n",
        "#para la suma, los arrays deben tener la misma forma\n",
        "\n",
        "arr1 = np.array([[6,5,4],\n",
        "               [3,2,1]])\n",
        "arr2 = np.array([[5,6,7],\n",
        "               [8,9,10]])\n",
        "np.add(arr1, arr2)\n"
      ],
      "metadata": {
        "colab": {
          "base_uri": "https://localhost:8080/"
        },
        "id": "L-ziGC7K2AGr",
        "outputId": "0244f6b1-d726-4935-8321-61fc08a3445e"
      },
      "execution_count": 46,
      "outputs": [
        {
          "output_type": "execute_result",
          "data": {
            "text/plain": [
              "array([[11, 11, 11],\n",
              "       [11, 11, 11]])"
            ]
          },
          "metadata": {},
          "execution_count": 46
        }
      ]
    },
    {
      "cell_type": "code",
      "source": [
        "#Suma con np.sum\n",
        "#En esta suma, el resultado es la adición de todos los elementos de los arrays presentes\n",
        "\n",
        "arr3 = np.array([[1,1,1],[1,1,1]])\n",
        "\n",
        "print(np.sum([arr1, arr2]))\n",
        "print(np.sum([arr1, arr2, arr3]))"
      ],
      "metadata": {
        "colab": {
          "base_uri": "https://localhost:8080/"
        },
        "id": "j-hf4TxL42Bp",
        "outputId": "e9317cec-0813-4c70-9275-98caf1fbbed6"
      },
      "execution_count": 47,
      "outputs": [
        {
          "output_type": "stream",
          "name": "stdout",
          "text": [
            "66\n",
            "72\n"
          ]
        }
      ]
    },
    {
      "cell_type": "code",
      "source": [
        "#Al aplicar la función np.sum a un eje específico, no se obtiene un escalar sino un nuevo array de la misma forma de los anteriores\n",
        "\n",
        "arr4 = np.sum([arr1, arr2, arr3], axis=0) #Da el mismo resultado que np.add\n",
        "print(arr4)\n",
        "arr5 = np.add(arr1, arr2, arr3)\n",
        "print(arr5)\n",
        "arr6 = np.sum([arr1, arr2, arr3], axis=1)\n",
        "print(arr6)"
      ],
      "metadata": {
        "colab": {
          "base_uri": "https://localhost:8080/"
        },
        "id": "9myziI6mBmjv",
        "outputId": "deba973b-875f-4e59-e6a7-1061d684981a"
      },
      "execution_count": 48,
      "outputs": [
        {
          "output_type": "stream",
          "name": "stdout",
          "text": [
            "[[12 12 12]\n",
            " [12 12 12]]\n",
            "[[11 11 11]\n",
            " [11 11 11]]\n",
            "[[ 9  7  5]\n",
            " [13 15 17]\n",
            " [22 22 22]]\n"
          ]
        }
      ]
    },
    {
      "cell_type": "code",
      "source": [
        "#Multiplicación de todos los elementos de los arrays\n",
        "#un array se puede multiplicar por sí mismo o por otro array de la misma forma para obtener, o bien un número\n",
        "#o bien otro array (si se hace la multiplicación por ejes)\n",
        "\n",
        "print(\"arr1 =\\n\",arr1,\"\\n\")\n",
        "print(\"arr2 =\\n\",arr2,\"\\n\")\n",
        "print(np.prod([arr1, arr2]),\"\\n\") #Producto de arr1 y arr2\n",
        "print(np.prod([arr1, arr2],axis = 0),\"\\n\") #Producto de arr1 y arr2, eje 0\n",
        "print(np.prod([arr1, arr2],axis = 1)) #Producto de arr1 y arr2, eje 1"
      ],
      "metadata": {
        "colab": {
          "base_uri": "https://localhost:8080/"
        },
        "id": "kh4WZ1tQQzbu",
        "outputId": "ffb71258-c056-423a-9e4e-5f02290521cd"
      },
      "execution_count": 49,
      "outputs": [
        {
          "output_type": "stream",
          "name": "stdout",
          "text": [
            "arr1 =\n",
            " [[6 5 4]\n",
            " [3 2 1]] \n",
            "\n",
            "arr2 =\n",
            " [[ 5  6  7]\n",
            " [ 8  9 10]] \n",
            "\n",
            "108864000 \n",
            "\n",
            "[[30 30 28]\n",
            " [24 18 10]] \n",
            "\n",
            "[[18 10  4]\n",
            " [40 54 70]]\n"
          ]
        }
      ]
    },
    {
      "cell_type": "code",
      "source": [
        "#Multiplicación matricial\n",
        "\n",
        "#Función matmul. Ejecuta una multiplicación entre matrices, siguiendo las reglas aprendidas en álgebra lineal\n",
        "print(arr1)\n",
        "print(arr2)\n",
        "np.matmul(arr1, arr2.T)"
      ],
      "metadata": {
        "colab": {
          "base_uri": "https://localhost:8080/"
        },
        "id": "stMKoQNeRhar",
        "outputId": "9666720f-9315-47da-fc93-96e74f7a1bd2"
      },
      "execution_count": 51,
      "outputs": [
        {
          "output_type": "stream",
          "name": "stdout",
          "text": [
            "[[6 5 4]\n",
            " [3 2 1]]\n",
            "[[ 5  6  7]\n",
            " [ 8  9 10]]\n"
          ]
        },
        {
          "output_type": "execute_result",
          "data": {
            "text/plain": [
              "array([[ 88, 133],\n",
              "       [ 34,  52]])"
            ]
          },
          "metadata": {},
          "execution_count": 51
        }
      ]
    },
    {
      "cell_type": "code",
      "source": [
        "#Función dot para multiplicar matrices\n",
        "np.dot(arr1, arr2.T)"
      ],
      "metadata": {
        "colab": {
          "base_uri": "https://localhost:8080/"
        },
        "id": "8oUwlMVvShwI",
        "outputId": "f5d1a046-87db-4fa4-f4eb-95a46c130acc"
      },
      "execution_count": 52,
      "outputs": [
        {
          "output_type": "execute_result",
          "data": {
            "text/plain": [
              "array([[ 88, 133],\n",
              "       [ 34,  52]])"
            ]
          },
          "metadata": {},
          "execution_count": 52
        }
      ]
    },
    {
      "cell_type": "code",
      "source": [
        "#Multiplicación elemento a elemento de los arrays con np.dot\n",
        "\n",
        "print(\"d =\\n\",d,\"\\n\") #2,2,4\n",
        "print(\"d.reshape =\\n\",d.reshape(2,4,2),\"\\n\") #2,4,2\n",
        "np.dot(d,d.reshape(2,4,2)) #2,2,2,2"
      ],
      "metadata": {
        "colab": {
          "base_uri": "https://localhost:8080/"
        },
        "id": "6tksy4imSp3I",
        "outputId": "13dc0973-3da2-4706-cc26-0ce1ac23e090"
      },
      "execution_count": 53,
      "outputs": [
        {
          "output_type": "stream",
          "name": "stdout",
          "text": [
            "d =\n",
            " [[[ 1  2  3  4]\n",
            "  [ 5  6  7  8]]\n",
            "\n",
            " [[ 9 10 11 12]\n",
            "  [13 14 15 16]]] \n",
            "\n",
            "d.reshape =\n",
            " [[[ 1  2]\n",
            "  [ 3  4]\n",
            "  [ 5  6]\n",
            "  [ 7  8]]\n",
            "\n",
            " [[ 9 10]\n",
            "  [11 12]\n",
            "  [13 14]\n",
            "  [15 16]]] \n",
            "\n"
          ]
        },
        {
          "output_type": "execute_result",
          "data": {
            "text/plain": [
              "array([[[[ 50,  60],\n",
              "         [130, 140]],\n",
              "\n",
              "        [[114, 140],\n",
              "         [322, 348]]],\n",
              "\n",
              "\n",
              "       [[[178, 220],\n",
              "         [514, 556]],\n",
              "\n",
              "        [[242, 300],\n",
              "         [706, 764]]]])"
            ]
          },
          "metadata": {},
          "execution_count": 53
        }
      ]
    },
    {
      "cell_type": "code",
      "source": [
        "#Multiplicación de elementos particulares de los arrays con np.dot\n",
        "\n",
        "print(np.dot(d[0],d.reshape(2,4,2)[0]),\"\\n\")\n",
        "print(np.dot(d[0],d.reshape(2,4,2)[1]),\"\\n\")\n",
        "print(np.dot(d[1],d.reshape(2,4,2)[0]),\"\\n\")\n",
        "print(np.dot(d[1],d.reshape(2,4,2)[1]),\"\\n\")"
      ],
      "metadata": {
        "colab": {
          "base_uri": "https://localhost:8080/"
        },
        "id": "0SCLG06ISptF",
        "outputId": "26c39354-822f-4638-9688-90b767124d4b"
      },
      "execution_count": 54,
      "outputs": [
        {
          "output_type": "stream",
          "name": "stdout",
          "text": [
            "[[ 50  60]\n",
            " [114 140]] \n",
            "\n",
            "[[130 140]\n",
            " [322 348]] \n",
            "\n",
            "[[178 220]\n",
            " [242 300]] \n",
            "\n",
            "[[514 556]\n",
            " [706 764]] \n",
            "\n"
          ]
        }
      ]
    },
    {
      "cell_type": "code",
      "source": [
        "#Multiplicación de arrays con np.matmul\n",
        "np.matmul(d,d.reshape(2,4,2))"
      ],
      "metadata": {
        "colab": {
          "base_uri": "https://localhost:8080/"
        },
        "id": "h_aILYXSTJAl",
        "outputId": "540ccee3-c589-4329-cc5b-bc427fab379d"
      },
      "execution_count": 55,
      "outputs": [
        {
          "output_type": "execute_result",
          "data": {
            "text/plain": [
              "array([[[ 50,  60],\n",
              "        [114, 140]],\n",
              "\n",
              "       [[514, 556],\n",
              "        [706, 764]]])"
            ]
          },
          "metadata": {},
          "execution_count": 55
        }
      ]
    }
  ]
}